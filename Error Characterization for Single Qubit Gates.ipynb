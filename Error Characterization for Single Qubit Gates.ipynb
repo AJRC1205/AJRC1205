{
 "cells": [
  {
   "cell_type": "code",
   "execution_count": 5,
   "id": "6c412781-87df-41c3-8365-c46b707a8302",
   "metadata": {},
   "outputs": [
    {
     "ename": "ModuleNotFoundError",
     "evalue": "No module named 'matplotlib'",
     "output_type": "error",
     "traceback": [
      "\u001b[0;31m---------------------------------------------------------------------------\u001b[0m",
      "\u001b[0;31mModuleNotFoundError\u001b[0m                       Traceback (most recent call last)",
      "Cell \u001b[0;32mIn[5], line 2\u001b[0m\n\u001b[1;32m      1\u001b[0m \u001b[38;5;28;01mimport\u001b[39;00m \u001b[38;5;21;01mnumpy\u001b[39;00m \u001b[38;5;28;01mas\u001b[39;00m \u001b[38;5;21;01mnp\u001b[39;00m\n\u001b[0;32m----> 2\u001b[0m \u001b[38;5;28;01mimport\u001b[39;00m \u001b[38;5;21;01mmatplotlib\u001b[39;00m\n\u001b[1;32m      3\u001b[0m \u001b[38;5;28;01mimport\u001b[39;00m \u001b[38;5;21;01mmatplotlib\u001b[39;00m\u001b[38;5;21;01m.\u001b[39;00m\u001b[38;5;21;01mpyplot\u001b[39;00m \u001b[38;5;28;01mas\u001b[39;00m \u001b[38;5;21;01mplt\u001b[39;00m\n\u001b[1;32m      4\u001b[0m \u001b[38;5;28;01mimport\u001b[39;00m \u001b[38;5;21;01mqiskit\u001b[39;00m\n",
      "\u001b[0;31mModuleNotFoundError\u001b[0m: No module named 'matplotlib'"
     ]
    }
   ],
   "source": [
    "import numpy as np\n",
    "import matplotlib.pyplot as plt\n",
    "import qiskit"
   ]
  },
  {
   "cell_type": "code",
   "execution_count": 2,
   "id": "66bfcadd-853b-4c43-a05e-902b5753ea32",
   "metadata": {},
   "outputs": [
    {
     "ename": "SyntaxError",
     "evalue": "invalid character '¶' (U+00B6) (233848386.py, line 60)",
     "output_type": "error",
     "traceback": [
      "\u001b[0;36m  Cell \u001b[0;32mIn[2], line 60\u001b[0;36m\u001b[0m\n\u001b[0;31m    Amplitude Error Characterization for Single Qubit Gates¶\u001b[0m\n\u001b[0m                                                           ^\u001b[0m\n\u001b[0;31mSyntaxError\u001b[0m\u001b[0;31m:\u001b[0m invalid character '¶' (U+00B6)\n"
     ]
    }
   ],
   "source": [
    "from qiskit.providers.aer.noise.errors.standard_errors import coherent_unitary_error\n",
    "from qiskit.providers.aer.noise import NoiseModel\n",
    "\n",
    "from qiskit.ignis.characterization.hamiltonian import ZZFitter, zz_circuits\n",
    "\n",
    "from qiskit.ignis.characterization.gates import (AmpCalFitter, ampcal_1Q_circuits,\n",
    "                                                 AngleCalFitter, anglecal_1Q_circuits,\n",
    "                                                 AmpCalCXFitter, ampcal_cx_circuits,\n",
    "                                                 AngleCalCXFitter, anglecal_cx_circuits)"
   ]
  },
  {
   "cell_type": "code",
   "execution_count": 3,
   "id": "43f085d1-4c38-4a03-aeb0-196db0fb197c",
   "metadata": {},
   "outputs": [
    {
     "ename": "NameError",
     "evalue": "name 'zz_circuits' is not defined",
     "output_type": "error",
     "traceback": [
      "\u001b[0;31m---------------------------------------------------------------------------\u001b[0m",
      "\u001b[0;31mNameError\u001b[0m                                 Traceback (most recent call last)",
      "Cell \u001b[0;32mIn[3], line 12\u001b[0m\n\u001b[1;32m      9\u001b[0m spectators \u001b[38;5;241m=\u001b[39m [\u001b[38;5;241m1\u001b[39m]\n\u001b[1;32m     11\u001b[0m \u001b[38;5;66;03m# Generate experiments\u001b[39;00m\n\u001b[0;32m---> 12\u001b[0m circs, xdata, osc_freq \u001b[38;5;241m=\u001b[39m \u001b[43mzz_circuits\u001b[49m(num_of_gates, gate_time, qubits, spectators, nosc\u001b[38;5;241m=\u001b[39m\u001b[38;5;241m2\u001b[39m)\n",
      "\u001b[0;31mNameError\u001b[0m: name 'zz_circuits' is not defined"
     ]
    }
   ],
   "source": [
    "# ZZ rates are typically ~ 100kHz so we want Ramsey oscillations around 1MHz\n",
    "# 12 numbers ranging from 10 to 1000, logarithmically spaced\n",
    "# extra point at 1500\n",
    "num_of_gates = np.arange(0,150,5)\n",
    "gate_time = 0.1\n",
    "\n",
    "# Select the qubits whose ZZ will be measured\n",
    "qubits = [0]\n",
    "spectators = [1]\n",
    "\n",
    "# Generate experiments\n",
    "circs, xdata, osc_freq = zz_circuits(num_of_gates, gate_time, qubits, spectators, nosc=2)"
   ]
  },
  {
   "cell_type": "code",
   "execution_count": null,
   "id": "a39151c7-7845-46d7-8c23-1e0ea001ee6f",
   "metadata": {},
   "outputs": [],
   "source": [
    "# Set the simulator with ZZ\n",
    "zz_unitary = np.eye(4,dtype=complex)\n",
    "zz_unitary[3,3] = np.exp(1j*2*np.pi*0.02*gate_time)\n",
    "error = coherent_unitary_error(zz_unitary)\n",
    "noise_model = NoiseModel()\n",
    "noise_model.add_nonlocal_quantum_error(error, 'id', [0], [0,1])\n",
    "\n",
    "# Run the simulator\n",
    "backend = qiskit.Aer.get_backend('qasm_simulator')\n",
    "shots = 500\n",
    "# For demonstration purposes split the execution into two jobs\n",
    "print(\"Running the first 20 circuits\")\n",
    "backend_result1 = qiskit.execute(circs[0:20], backend,\n",
    "                                shots=shots, noise_model=noise_model).result()\n",
    "print(\"Running the rest of the circuits\")\n",
    "backend_result2 = qiskit.execute(circs[20:], backend,\n",
    "                                shots=shots, noise_model=noise_model).result()"
   ]
  },
  {
   "cell_type": "code",
   "execution_count": 6,
   "id": "8e00e40b-00e2-4350-8317-cbe7964d402c",
   "metadata": {},
   "outputs": [
    {
     "ename": "NameError",
     "evalue": "name 'plt' is not defined",
     "output_type": "error",
     "traceback": [
      "\u001b[0;31m---------------------------------------------------------------------------\u001b[0m",
      "\u001b[0;31mNameError\u001b[0m                                 Traceback (most recent call last)",
      "Cell \u001b[0;32mIn[6], line 3\u001b[0m\n\u001b[1;32m      1\u001b[0m \u001b[38;5;66;03m# Fit the data to an oscillation\u001b[39;00m\n\u001b[0;32m----> 3\u001b[0m \u001b[43mplt\u001b[49m\u001b[38;5;241m.\u001b[39mfigure(figsize\u001b[38;5;241m=\u001b[39m(\u001b[38;5;241m10\u001b[39m, \u001b[38;5;241m6\u001b[39m))\n\u001b[1;32m      4\u001b[0m initial_a \u001b[38;5;241m=\u001b[39m \u001b[38;5;241m1\u001b[39m\n\u001b[1;32m      5\u001b[0m initial_c \u001b[38;5;241m=\u001b[39m \u001b[38;5;241m0\u001b[39m\n",
      "\u001b[0;31mNameError\u001b[0m: name 'plt' is not defined"
     ]
    }
   ],
   "source": [
    "# Fit the data to an oscillation\n",
    "\n",
    "plt.figure(figsize=(10, 6))\n",
    "initial_a = 1\n",
    "initial_c = 0\n",
    "initial_f = osc_freq\n",
    "initial_phi = -np.pi/20\n",
    "\n",
    "# Instantiate the fitter\n",
    "# pass the 2 results in as a list of results\n",
    "fit = ZZFitter([backend_result1, backend_result2], xdata, qubits, spectators,\n",
    "                   fit_p0=[initial_a, initial_f, initial_phi, initial_c],\n",
    "                   fit_bounds=([-0.5, 0, -np.pi, -0.5],\n",
    "                               [1.5, 2*osc_freq, np.pi, 1.5]))\n",
    "\n",
    "fit.plot_ZZ(0, ax=plt.gca())\n",
    "\n",
    "print(\"ZZ Rate: %f kHz\"%(fit.ZZ_rate()[0]*1e3))\n",
    "plt.show()"
   ]
  },
  {
   "cell_type": "markdown",
   "id": "6be47c30-cf85-4aad-859a-edc9a0f92004",
   "metadata": {},
   "source": [
    "Amplitude Error Characterization for Single Qubit Gates"
   ]
  },
  {
   "cell_type": "code",
   "execution_count": 8,
   "id": "e467a46f-0e73-410d-bf7d-1e885f7cde76",
   "metadata": {},
   "outputs": [
    {
     "ename": "NameError",
     "evalue": "name 'ampcal_1Q_circuits' is not defined",
     "output_type": "error",
     "traceback": [
      "\u001b[0;31m---------------------------------------------------------------------------\u001b[0m",
      "\u001b[0;31mNameError\u001b[0m                                 Traceback (most recent call last)",
      "Cell \u001b[0;32mIn[8], line 2\u001b[0m\n\u001b[1;32m      1\u001b[0m \u001b[38;5;66;03m#qubits = [4,2]\u001b[39;00m\n\u001b[0;32m----> 2\u001b[0m circs, xdata \u001b[38;5;241m=\u001b[39m \u001b[43mampcal_1Q_circuits\u001b[49m(\u001b[38;5;241m10\u001b[39m, qubits)\n",
      "\u001b[0;31mNameError\u001b[0m: name 'ampcal_1Q_circuits' is not defined"
     ]
    }
   ],
   "source": [
    "# measure on qubits 2 and 4.\n",
    "qubits = [4,2]\n",
    "circs, xdata = ampcal_1Q_circuits(10, qubits)\n"
   ]
  },
  {
   "cell_type": "code",
   "execution_count": 9,
   "id": "6ce96463-fa61-479c-bb96-5997d609ef9f",
   "metadata": {},
   "outputs": [
    {
     "ename": "NameError",
     "evalue": "name 'circs' is not defined",
     "output_type": "error",
     "traceback": [
      "\u001b[0;31m---------------------------------------------------------------------------\u001b[0m",
      "\u001b[0;31mNameError\u001b[0m                                 Traceback (most recent call last)",
      "Cell \u001b[0;32mIn[9], line 1\u001b[0m\n\u001b[0;32m----> 1\u001b[0m \u001b[38;5;28mprint\u001b[39m(\u001b[43mcircs\u001b[49m[\u001b[38;5;241m2\u001b[39m])\n",
      "\u001b[0;31mNameError\u001b[0m: name 'circs' is not defined"
     ]
    }
   ],
   "source": [
    "print(circs[2])\n",
    "\n"
   ]
  },
  {
   "cell_type": "code",
   "execution_count": null,
   "id": "195c450b-8de6-462d-a44e-102ac2f9315f",
   "metadata": {},
   "outputs": [],
   "source": [
    "# Set the simulator\n",
    "# Add a rotation error\n",
    "err_unitary = np.zeros([2,2],dtype=complex)\n",
    "angle_err = 0.1\n",
    "for i in range(2):\n",
    "    err_unitary[i,i] = np.cos(angle_err)\n",
    "    err_unitary[i,(i+1) % 2] = np.sin(angle_err)\n",
    "err_unitary[0,1] *= -1.0\n",
    "\n",
    "error = coherent_unitary_error(err_unitary)\n",
    "noise_model = NoiseModel()\n",
    "noise_model.add_all_qubit_quantum_error(error, 'u2')\n",
    "\n",
    "# Run the simulator\n",
    "backend = qiskit.Aer.get_backend('qasm_simulator')\n",
    "shots = 500\n",
    "backend_result1 = qiskit.execute(circs, backend,\n",
    "                                shots=shots, noise_model=noise_model).result()"
   ]
  },
  {
   "cell_type": "code",
   "execution_count": null,
   "id": "7b64a4d7-aad3-49d9-a435-dfbb46e0b880",
   "metadata": {},
   "outputs": [],
   "source": [
    "# Fit the data to an oscillation\n",
    "\n",
    "plt.figure(figsize=(10, 6))\n",
    "initial_theta = 0.02\n",
    "initial_c = 0.5\n",
    "initial_phi = 0.1\n",
    "\n",
    "\n",
    "fit = AmpCalFitter(backend_result1, xdata, qubits,\n",
    "                   fit_p0=[initial_theta, initial_c],\n",
    "                   fit_bounds=([-np.pi, -1],\n",
    "                               [np.pi, 1]))\n",
    "\n",
    "# plot the result for the number 1 indexed qubit.\n",
    "# In this case that refers to Q2 since we passed in as [4, 2])\n",
    "fit.plot(1, ax=plt.gca())\n",
    "\n",
    "print(\"Rotation Error on U2: %f rads\"%(fit.angle_err()[0]))\n",
    "plt.show()"
   ]
  }
 ],
 "metadata": {
  "kernelspec": {
   "display_name": "Python 3 (ipykernel)",
   "language": "python",
   "name": "python3"
  },
  "language_info": {
   "codemirror_mode": {
    "name": "ipython",
    "version": 3
   },
   "file_extension": ".py",
   "mimetype": "text/x-python",
   "name": "python",
   "nbconvert_exporter": "python",
   "pygments_lexer": "ipython3",
   "version": "3.11.3"
  }
 },
 "nbformat": 4,
 "nbformat_minor": 5
}
